{
 "cells": [
  {
   "cell_type": "markdown",
   "id": "7b198d0c-ccb8-4034-a461-7717fe5ef599",
   "metadata": {},
   "source": [
    "# intro to nlp"
   ]
  },
  {
   "cell_type": "markdown",
   "id": "91c573d9-6d67-4a3d-9865-bf15c9ee52d8",
   "metadata": {},
   "source": [
    "## python skills"
   ]
  },
  {
   "cell_type": "code",
   "execution_count": 1,
   "id": "755ad68a-563e-4d0e-9597-cd87f46711cd",
   "metadata": {},
   "outputs": [
    {
     "name": "stdout",
     "output_type": "stream",
     "text": [
      "columbia Columbia\n"
     ]
    }
   ],
   "source": [
    "#variables\n",
    "#string, integers, floats, boolean\n",
    "\n",
    "my_str = \"columbia\"\n",
    "my_o_str = \"Columbia\"\n",
    "\n",
    "print(my_str,my_o_str)"
   ]
  },
  {
   "cell_type": "code",
   "execution_count": 2,
   "id": "7e62c359-1ca9-4b3d-b0e3-fa4c951b5ea9",
   "metadata": {},
   "outputs": [
    {
     "data": {
      "text/plain": [
       "False"
      ]
     },
     "execution_count": 2,
     "metadata": {},
     "output_type": "execute_result"
    }
   ],
   "source": [
    "#string equivancy is done by '=='\n",
    "my_str == my_o_str"
   ]
  },
  {
   "cell_type": "code",
   "execution_count": 3,
   "id": "ccb7e4c6-5f92-4594-b4cb-8aab994ac734",
   "metadata": {},
   "outputs": [
    {
     "name": "stdout",
     "output_type": "stream",
     "text": [
      "columbia\n"
     ]
    }
   ],
   "source": [
    "my_o_str = my_o_str.lower()\n",
    "print(my_o_str)"
   ]
  },
  {
   "cell_type": "code",
   "execution_count": 4,
   "id": "30ba9830-e272-467f-aea7-eb9683c7872c",
   "metadata": {},
   "outputs": [
    {
     "data": {
      "text/plain": [
       "'columbia columbia'"
      ]
     },
     "execution_count": 4,
     "metadata": {},
     "output_type": "execute_result"
    }
   ],
   "source": [
    "# string concatenate\n",
    "str_cat = my_o_str + \" \" +my_str\n",
    "str_cat"
   ]
  },
  {
   "cell_type": "code",
   "execution_count": 5,
   "id": "e484a9ea-f5b1-4c6c-8455-a51d8ff1037a",
   "metadata": {},
   "outputs": [
    {
     "data": {
      "text/plain": [
       "'columbia columbiacolumbia columbiacolumbia columbiacolumbia columbiacolumbia columbiacolumbia columbiacolumbia columbiacolumbia columbiacolumbia columbiacolumbia columbia'"
      ]
     },
     "execution_count": 5,
     "metadata": {},
     "output_type": "execute_result"
    }
   ],
   "source": [
    "rep = str_cat * 10\n",
    "rep"
   ]
  },
  {
   "cell_type": "code",
   "execution_count": 6,
   "id": "dc91a1ed-bf5a-414b-b8f6-3abedc4e0e58",
   "metadata": {},
   "outputs": [
    {
     "data": {
      "text/plain": [
       "8"
      ]
     },
     "execution_count": 6,
     "metadata": {},
     "output_type": "execute_result"
    }
   ],
   "source": [
    "len(my_str)"
   ]
  },
  {
   "cell_type": "markdown",
   "id": "f70978fa-93ce-4808-8720-4fa4d9f86d97",
   "metadata": {},
   "source": [
    "## python math calculation"
   ]
  },
  {
   "cell_type": "code",
   "execution_count": 7,
   "id": "feb5cc3a-fb36-46f7-bbf8-96ed8f12282c",
   "metadata": {},
   "outputs": [],
   "source": [
    "# math calculation\n",
    "my_int = 1\n",
    "my_float = 3.14\n",
    "my_bool = True # false"
   ]
  },
  {
   "cell_type": "code",
   "execution_count": 8,
   "id": "bd2c4ddf-1c76-42f6-8a50-f5a7b50fd262",
   "metadata": {},
   "outputs": [
    {
     "data": {
      "text/plain": [
       "int"
      ]
     },
     "execution_count": 8,
     "metadata": {},
     "output_type": "execute_result"
    }
   ],
   "source": [
    "str_int = \"1234567\"\n",
    "my_example = int(str_int)\n",
    "type(my_example)"
   ]
  },
  {
   "cell_type": "markdown",
   "id": "cc4e5c2e-528b-422e-ad41-bb39b5456477",
   "metadata": {},
   "source": [
    "## python data type"
   ]
  },
  {
   "cell_type": "markdown",
   "id": "d56ab227-8e07-4af0-bed7-998d237aa7f7",
   "metadata": {},
   "source": [
    "### list"
   ]
  },
  {
   "cell_type": "code",
   "execution_count": 9,
   "id": "58d2250b-74de-4cd1-b7bf-e96619f052ae",
   "metadata": {},
   "outputs": [
    {
     "data": {
      "text/plain": [
       "0"
      ]
     },
     "execution_count": 9,
     "metadata": {},
     "output_type": "execute_result"
    }
   ],
   "source": [
    "# it show zero at first because there is nothing in it\n",
    "my_list = []\n",
    "len(my_list)"
   ]
  },
  {
   "cell_type": "code",
   "execution_count": 10,
   "id": "f91b1cc3-f263-4bee-9751-fcd30be3011f",
   "metadata": {},
   "outputs": [
    {
     "data": {
      "text/plain": [
       "['bob', 'sue']"
      ]
     },
     "execution_count": 10,
     "metadata": {},
     "output_type": "execute_result"
    }
   ],
   "source": [
    "# list manipulation\n",
    "# start at index zero\n",
    "my_list.append('bob')\n",
    "my_list.append('sue')\n",
    "my_list"
   ]
  },
  {
   "cell_type": "code",
   "execution_count": 14,
   "id": "008581c8-7eaf-4883-b8cd-5ff10b88e3b7",
   "metadata": {},
   "outputs": [
    {
     "data": {
      "text/plain": [
       "['https:', '', 'finance.yahoo.com', 'quote', 'ASTS', '']"
      ]
     },
     "execution_count": 14,
     "metadata": {},
     "output_type": "execute_result"
    }
   ],
   "source": [
    "url = \"https://finance.yahoo.com/quote/ASTS/\"\n",
    "the_ans = url.split('/')\n",
    "the_ans"
   ]
  },
  {
   "cell_type": "code",
   "execution_count": 15,
   "id": "ccc3ab71-eb47-434c-adaa-66e78f09e0a1",
   "metadata": {},
   "outputs": [
    {
     "data": {
      "text/plain": [
       "'ASTS'"
      ]
     },
     "execution_count": 15,
     "metadata": {},
     "output_type": "execute_result"
    }
   ],
   "source": [
    "the_ans = the_ans[-2]\n",
    "the_ans"
   ]
  },
  {
   "cell_type": "markdown",
   "id": "a31c2e22",
   "metadata": {},
   "source": [
    "## set"
   ]
  },
  {
   "cell_type": "code",
   "execution_count": 12,
   "id": "0b6729fa",
   "metadata": {},
   "outputs": [],
   "source": [
    "my_set  = set([1,2,3,4,5])\n",
    "my_set_a = set([2,3,4,5,56,78])"
   ]
  },
  {
   "cell_type": "code",
   "execution_count": 13,
   "id": "9484a617",
   "metadata": {},
   "outputs": [
    {
     "data": {
      "text/plain": [
       "{1, 123, 2, '20-24', 3, 4, 5, 'nyc'}"
      ]
     },
     "execution_count": 13,
     "metadata": {},
     "output_type": "execute_result"
    }
   ],
   "source": [
    "my_set.add('nyc')\n",
    "my_set.add('20-24')\n",
    "my_set.add(123)\n",
    "my_set"
   ]
  },
  {
   "cell_type": "markdown",
   "id": "5f8855e7",
   "metadata": {},
   "source": [
    "### set manipulation"
   ]
  },
  {
   "cell_type": "code",
   "execution_count": 20,
   "id": "f678b256",
   "metadata": {},
   "outputs": [
    {
     "data": {
      "text/plain": [
       "{56, 78}"
      ]
     },
     "execution_count": 20,
     "metadata": {},
     "output_type": "execute_result"
    }
   ],
   "source": [
    "# now we have two set\n",
    "# what are all the attributes between this two sets use UNION\n",
    "the_union = my_set.union(my_set_a)\n",
    "the_union\n",
    "# INTERSECTION\n",
    "the_inter = my_set_a.intersection(my_set)\n",
    "the_inter\n",
    "#DIFFERENCES\n",
    "#what is unique in a set\n",
    "# 这个diff的意思是my set里面有什么跟my set a不一样，order matter\n",
    "set_a_diff = my_set.difference(my_set_a)\n",
    "set_a_diff\n",
    "#这个是my set a里有什么跟my set不一样\n",
    "asym_diff = my_set_a.difference(my_set)\n",
    "asym_diff"
   ]
  },
  {
   "cell_type": "code",
   "execution_count": null,
   "id": "c1697877",
   "metadata": {},
   "outputs": [],
   "source": []
  }
 ],
 "metadata": {
  "kernelspec": {
   "display_name": "Python 3 (ipykernel)",
   "language": "python",
   "name": "python3"
  },
  "language_info": {
   "codemirror_mode": {
    "name": "ipython",
    "version": 3
   },
   "file_extension": ".py",
   "mimetype": "text/x-python",
   "name": "python",
   "nbconvert_exporter": "python",
   "pygments_lexer": "ipython3",
   "version": "3.9.7"
  }
 },
 "nbformat": 4,
 "nbformat_minor": 5
}
