{
 "cells": [
  {
   "cell_type": "markdown",
   "id": "96f42359-a48d-459b-9ec2-fa105c3a211d",
   "metadata": {},
   "source": [
    "# NLP HW 3\n",
    "Min Zhuang mz3067"
   ]
  },
  {
   "cell_type": "markdown",
   "id": "0a505f01-3c11-48d2-8357-cc543e866589",
   "metadata": {},
   "source": [
    "Build a function, called word_prob, that outputs probabilities, for every possible topic [all, fishing, hiking, machinelearning, mathematics] that a token or  sequential token combination (the user input to the function) shows up in an arbitrary textual based column  (body, body_sw, body_sw_stem), dictated by the user, from the dataframe, the_data, we have been using  in class.  The output dictionary of the function needs to have the following keys:\r\n",
    "\r\n",
    "\r\n",
    "all: <probability the sequential input token(s) shows up in ALL the corpuses\r\n",
    "\r\n",
    "fishing: <probability the sequential input token(s) shows up in the fishing corpuses\r\n",
    "\r\n",
    "hiking: <probability the sequential input token(s) shows up in the hiking corpuses\r\n",
    "\r\n",
    "machinelearning: <probability the sequential input token(s) shows up in the machinelearning corpuses\r\n",
    "\r\n",
    "mathematics: <probability the sequential input token(s) shows up in the mathematics corpuses\r\n",
    "\r\n",
    " \r\n",
    "\r\n",
    "The 'value' field of a dictionary is to have a value of None if the token(s) do not show up\r\n",
    "\r\n",
    "NOTE: If there are a total of 100 tokens, and the count of a specific token is 12, the probability of that token showing up is 12/100=.12"
   ]
  },
  {
   "cell_type": "code",
   "execution_count": 1,
   "id": "d6aa9f76-eb07-4e0b-9e09-943ed0638b21",
   "metadata": {},
   "outputs": [
    {
     "name": "stderr",
     "output_type": "stream",
     "text": [
      "[nltk_data] Downloading package stopwords to\n",
      "[nltk_data]     C:\\Users\\miche\\AppData\\Roaming\\nltk_data...\n",
      "[nltk_data]   Package stopwords is already up-to-date!\n",
      "[nltk_data] Downloading package wordnet to\n",
      "[nltk_data]     C:\\Users\\miche\\AppData\\Roaming\\nltk_data...\n",
      "[nltk_data]   Package wordnet is already up-to-date!\n",
      "[nltk_data] Downloading package omw-1.4 to\n",
      "[nltk_data]     C:\\Users\\miche\\AppData\\Roaming\\nltk_data...\n",
      "[nltk_data]   Package omw-1.4 is already up-to-date!\n"
     ]
    }
   ],
   "source": [
    "# lib import if needed\n",
    "import re\n",
    "import os\n",
    "import pandas as pd\n",
    "import collections\n",
    "from nltk.corpus import stopwords\n",
    "import nltk\n",
    "nltk.download('stopwords')\n",
    "\n",
    "#lecture 6 lib\n",
    "import nltk\n",
    "nltk.download('wordnet')\n",
    "nltk.download('omw-1.4')\n",
    "from nltk.stem import WordNetLemmatizer\n",
    "from sklearn.feature_extraction.text import CountVectorizer\n",
    "from sklearn.feature_extraction.text import TfidfVectorizer\n",
    "from vaderSentiment.vaderSentiment import SentimentIntensityAnalyzer"
   ]
  },
  {
   "cell_type": "code",
   "execution_count": 2,
   "id": "b89d576a-7a13-495c-97be-70e4d21cf646",
   "metadata": {},
   "outputs": [],
   "source": [
    "# utils file and data file\n",
    "from utils import *\n",
    "the_path = 'C:/Users/miche/Downloads/data/'\n",
    "sample_path = 'C:/Users/miche/Downloads/data/mathematics/www.maa.org_123441873000.txt'"
   ]
  },
  {
   "cell_type": "code",
   "execution_count": 3,
   "id": "468a2189-e227-4b1c-b5b2-8f6273d93979",
   "metadata": {},
   "outputs": [
    {
     "name": "stdout",
     "output_type": "stream",
     "text": [
      "C:/Users/miche/Downloads/data/fishing/UK MongoBD report Nov122018.xls\n",
      "C:/Users/miche/Downloads/data/fishing/UK segment count Nov122018.xlsx\n",
      "C:/Users/miche/Downloads/data/fishing/UK vendor count Nov122108 .xlsx\n"
     ]
    }
   ],
   "source": [
    "the_data = file_crawler(the_path)"
   ]
  },
  {
   "cell_type": "code",
   "execution_count": 4,
   "id": "f2455299-4caa-44e4-8b50-b87c89336330",
   "metadata": {},
   "outputs": [
    {
     "data": {
      "text/html": [
       "<div>\n",
       "<style scoped>\n",
       "    .dataframe tbody tr th:only-of-type {\n",
       "        vertical-align: middle;\n",
       "    }\n",
       "\n",
       "    .dataframe tbody tr th {\n",
       "        vertical-align: top;\n",
       "    }\n",
       "\n",
       "    .dataframe thead th {\n",
       "        text-align: right;\n",
       "    }\n",
       "</style>\n",
       "<table border=\"1\" class=\"dataframe\">\n",
       "  <thead>\n",
       "    <tr style=\"text-align: right;\">\n",
       "      <th></th>\n",
       "      <th>body</th>\n",
       "      <th>label</th>\n",
       "    </tr>\n",
       "  </thead>\n",
       "  <tbody>\n",
       "    <tr>\n",
       "      <th>0</th>\n",
       "      <td>dnr weekly fishing report dnr home contact dnr...</td>\n",
       "      <td>fishing</td>\n",
       "    </tr>\n",
       "    <tr>\n",
       "      <th>1</th>\n",
       "      <td>dnr fishing guide regulations header in gov ma...</td>\n",
       "      <td>fishing</td>\n",
       "    </tr>\n",
       "    <tr>\n",
       "      <th>2</th>\n",
       "      <td>nh hunting and fishing licenses new hampshire ...</td>\n",
       "      <td>fishing</td>\n",
       "    </tr>\n",
       "    <tr>\n",
       "      <th>3</th>\n",
       "      <td>bait tackle closed outdoor gear e columbia ave...</td>\n",
       "      <td>fishing</td>\n",
       "    </tr>\n",
       "    <tr>\n",
       "      <th>4</th>\n",
       "      <td>rescued from capsized sport fishing boat at nc...</td>\n",
       "      <td>fishing</td>\n",
       "    </tr>\n",
       "    <tr>\n",
       "      <th>...</th>\n",
       "      <td>...</td>\n",
       "      <td>...</td>\n",
       "    </tr>\n",
       "    <tr>\n",
       "      <th>254</th>\n",
       "      <td>uc santa cruz mathematics department skip to m...</td>\n",
       "      <td>mathematics</td>\n",
       "    </tr>\n",
       "    <tr>\n",
       "      <th>255</th>\n",
       "      <td>department of mathematics van vleck hall linco...</td>\n",
       "      <td>mathematics</td>\n",
       "    </tr>\n",
       "    <tr>\n",
       "      <th>256</th>\n",
       "      <td>department of mathematics university of pittsb...</td>\n",
       "      <td>mathematics</td>\n",
       "    </tr>\n",
       "    <tr>\n",
       "      <th>257</th>\n",
       "      <td>siam society for industrial and applied mathem...</td>\n",
       "      <td>mathematics</td>\n",
       "    </tr>\n",
       "    <tr>\n",
       "      <th>258</th>\n",
       "      <td>yasiin bey mathematics lyrics genius lyrics fa...</td>\n",
       "      <td>mathematics</td>\n",
       "    </tr>\n",
       "  </tbody>\n",
       "</table>\n",
       "<p>259 rows × 2 columns</p>\n",
       "</div>"
      ],
      "text/plain": [
       "                                                  body        label\n",
       "0    dnr weekly fishing report dnr home contact dnr...      fishing\n",
       "1    dnr fishing guide regulations header in gov ma...      fishing\n",
       "2    nh hunting and fishing licenses new hampshire ...      fishing\n",
       "3    bait tackle closed outdoor gear e columbia ave...      fishing\n",
       "4    rescued from capsized sport fishing boat at nc...      fishing\n",
       "..                                                 ...          ...\n",
       "254  uc santa cruz mathematics department skip to m...  mathematics\n",
       "255  department of mathematics van vleck hall linco...  mathematics\n",
       "256  department of mathematics university of pittsb...  mathematics\n",
       "257  siam society for industrial and applied mathem...  mathematics\n",
       "258  yasiin bey mathematics lyrics genius lyrics fa...  mathematics\n",
       "\n",
       "[259 rows x 2 columns]"
      ]
     },
     "execution_count": 4,
     "metadata": {},
     "output_type": "execute_result"
    }
   ],
   "source": [
    "the_data"
   ]
  },
  {
   "cell_type": "code",
   "execution_count": 16,
   "id": "4d790f91-2dd3-4a5a-be94-c2240c24f48d",
   "metadata": {},
   "outputs": [],
   "source": [
    "the_data['body_sw'] = the_data['body'].apply(rem_sw)  # Remove stop words\n",
    "the_data['body_sw_stem'] = the_data['body_sw'].apply(lambda x: stem_fun(x, \"stem\"))  # Remove stop words and stem"
   ]
  },
  {
   "cell_type": "code",
   "execution_count": 18,
   "id": "7fb4596f-a051-4ed2-8e9a-746bcfb56712",
   "metadata": {},
   "outputs": [
    {
     "data": {
      "text/html": [
       "<div>\n",
       "<style scoped>\n",
       "    .dataframe tbody tr th:only-of-type {\n",
       "        vertical-align: middle;\n",
       "    }\n",
       "\n",
       "    .dataframe tbody tr th {\n",
       "        vertical-align: top;\n",
       "    }\n",
       "\n",
       "    .dataframe thead th {\n",
       "        text-align: right;\n",
       "    }\n",
       "</style>\n",
       "<table border=\"1\" class=\"dataframe\">\n",
       "  <thead>\n",
       "    <tr style=\"text-align: right;\">\n",
       "      <th></th>\n",
       "      <th>body</th>\n",
       "      <th>body_sw</th>\n",
       "      <th>body_sw_stem</th>\n",
       "    </tr>\n",
       "  </thead>\n",
       "  <tbody>\n",
       "    <tr>\n",
       "      <th>0</th>\n",
       "      <td>dnr weekly fishing report dnr home contact dnr...</td>\n",
       "      <td>dnr weekly fishing report dnr home contact dnr...</td>\n",
       "      <td>dnr weekli fish report dnr home contact dnr dn...</td>\n",
       "    </tr>\n",
       "    <tr>\n",
       "      <th>1</th>\n",
       "      <td>dnr fishing guide regulations header in gov ma...</td>\n",
       "      <td>dnr fishing guide regulations header gov main ...</td>\n",
       "      <td>dnr fish guid regul header gov main navig busi...</td>\n",
       "    </tr>\n",
       "    <tr>\n",
       "      <th>2</th>\n",
       "      <td>nh hunting and fishing licenses new hampshire ...</td>\n",
       "      <td>nh hunting fishing licenses new hampshire fish...</td>\n",
       "      <td>nh hunt fish licens new hampshir fish game dep...</td>\n",
       "    </tr>\n",
       "    <tr>\n",
       "      <th>3</th>\n",
       "      <td>bait tackle closed outdoor gear e columbia ave...</td>\n",
       "      <td>bait tackle closed outdoor gear e columbia ave...</td>\n",
       "      <td>bait tackl close outdoor gear e columbia ave p...</td>\n",
       "    </tr>\n",
       "    <tr>\n",
       "      <th>4</th>\n",
       "      <td>rescued from capsized sport fishing boat at nc...</td>\n",
       "      <td>rescued capsized sport fishing boat nc outer b...</td>\n",
       "      <td>rescu capsiz sport fish boat nc outer bank wnc...</td>\n",
       "    </tr>\n",
       "    <tr>\n",
       "      <th>...</th>\n",
       "      <td>...</td>\n",
       "      <td>...</td>\n",
       "      <td>...</td>\n",
       "    </tr>\n",
       "    <tr>\n",
       "      <th>254</th>\n",
       "      <td>uc santa cruz mathematics department skip to m...</td>\n",
       "      <td>uc santa cruz mathematics department skip main...</td>\n",
       "      <td>uc santa cruz mathemat depart skip main conten...</td>\n",
       "    </tr>\n",
       "    <tr>\n",
       "      <th>255</th>\n",
       "      <td>department of mathematics van vleck hall linco...</td>\n",
       "      <td>department mathematics van vleck hall lincoln ...</td>\n",
       "      <td>depart mathemat van vleck hall lincoln drive m...</td>\n",
       "    </tr>\n",
       "    <tr>\n",
       "      <th>256</th>\n",
       "      <td>department of mathematics university of pittsb...</td>\n",
       "      <td>department mathematics university pittsburgh p...</td>\n",
       "      <td>depart mathemat univers pittsburgh pitt bar li...</td>\n",
       "    </tr>\n",
       "    <tr>\n",
       "      <th>257</th>\n",
       "      <td>siam society for industrial and applied mathem...</td>\n",
       "      <td>siam society industrial applied mathematics si...</td>\n",
       "      <td>siam societi industri appli mathemat siam jour...</td>\n",
       "    </tr>\n",
       "    <tr>\n",
       "      <th>258</th>\n",
       "      <td>yasiin bey mathematics lyrics genius lyrics fa...</td>\n",
       "      <td>yasiin bey mathematics lyrics genius lyrics fa...</td>\n",
       "      <td>yasiin bey mathemat lyric geniu lyric facebook...</td>\n",
       "    </tr>\n",
       "  </tbody>\n",
       "</table>\n",
       "<p>259 rows × 3 columns</p>\n",
       "</div>"
      ],
      "text/plain": [
       "                                                  body  \\\n",
       "0    dnr weekly fishing report dnr home contact dnr...   \n",
       "1    dnr fishing guide regulations header in gov ma...   \n",
       "2    nh hunting and fishing licenses new hampshire ...   \n",
       "3    bait tackle closed outdoor gear e columbia ave...   \n",
       "4    rescued from capsized sport fishing boat at nc...   \n",
       "..                                                 ...   \n",
       "254  uc santa cruz mathematics department skip to m...   \n",
       "255  department of mathematics van vleck hall linco...   \n",
       "256  department of mathematics university of pittsb...   \n",
       "257  siam society for industrial and applied mathem...   \n",
       "258  yasiin bey mathematics lyrics genius lyrics fa...   \n",
       "\n",
       "                                               body_sw  \\\n",
       "0    dnr weekly fishing report dnr home contact dnr...   \n",
       "1    dnr fishing guide regulations header gov main ...   \n",
       "2    nh hunting fishing licenses new hampshire fish...   \n",
       "3    bait tackle closed outdoor gear e columbia ave...   \n",
       "4    rescued capsized sport fishing boat nc outer b...   \n",
       "..                                                 ...   \n",
       "254  uc santa cruz mathematics department skip main...   \n",
       "255  department mathematics van vleck hall lincoln ...   \n",
       "256  department mathematics university pittsburgh p...   \n",
       "257  siam society industrial applied mathematics si...   \n",
       "258  yasiin bey mathematics lyrics genius lyrics fa...   \n",
       "\n",
       "                                          body_sw_stem  \n",
       "0    dnr weekli fish report dnr home contact dnr dn...  \n",
       "1    dnr fish guid regul header gov main navig busi...  \n",
       "2    nh hunt fish licens new hampshir fish game dep...  \n",
       "3    bait tackl close outdoor gear e columbia ave p...  \n",
       "4    rescu capsiz sport fish boat nc outer bank wnc...  \n",
       "..                                                 ...  \n",
       "254  uc santa cruz mathemat depart skip main conten...  \n",
       "255  depart mathemat van vleck hall lincoln drive m...  \n",
       "256  depart mathemat univers pittsburgh pitt bar li...  \n",
       "257  siam societi industri appli mathemat siam jour...  \n",
       "258  yasiin bey mathemat lyric geniu lyric facebook...  \n",
       "\n",
       "[259 rows x 3 columns]"
      ]
     },
     "execution_count": 18,
     "metadata": {},
     "output_type": "execute_result"
    }
   ],
   "source": [
    "the_data[['body', 'body_sw', 'body_sw_stem']]"
   ]
  },
  {
   "cell_type": "code",
   "execution_count": 5,
   "id": "cf1ceebb-6cbf-47e8-9675-0db4a9492931",
   "metadata": {},
   "outputs": [],
   "source": [
    "import collections"
   ]
  },
  {
   "cell_type": "code",
   "execution_count": 13,
   "id": "eaf03250-3e2a-4c1e-9615-2a9cb8ad42f1",
   "metadata": {},
   "outputs": [],
   "source": [
    "def word_prob(the_data, token_sequence, col_in='body'):\n",
    "    labels = ['all', 'fishing', 'hiking', 'machinelearning', 'mathematics']\n",
    "    result = {t: None for t in labels}\n",
    "\n",
    "    for label in labels:\n",
    "        if label == 'all':\n",
    "            label_data = the_data[col_in]\n",
    "        else:\n",
    "            label_data = the_data[the_data['label'] == label][col_in]\n",
    "\n",
    "        combined_text = ' '.join(label_data) #对应label合并成一个combined text\n",
    "        tokens = combined_text.split() #把字符串split成tokens\n",
    "        total_tokens = len(tokens) #算分母\n",
    "        token_sequence_count = combined_text.count(token_sequence) #算分子\n",
    "\n",
    "        if token_sequence_count > 0 and total_tokens > 0:\n",
    "            result[label] = token_sequence_count / total_tokens\n",
    "        else:\n",
    "            result[label] = 0 \n",
    "    return result"
   ]
  },
  {
   "cell_type": "code",
   "execution_count": 19,
   "id": "fb73fcb0-6545-43fc-9943-b46684b39587",
   "metadata": {},
   "outputs": [
    {
     "data": {
      "text/plain": [
       "{'all': 0.0012592362081068759,\n",
       " 'fishing': 0.002261199046629591,\n",
       " 'hiking': 0.0018096175852250047,\n",
       " 'machinelearning': 0.0006185669041963578,\n",
       " 'mathematics': 0.00025491624180626365}"
      ]
     },
     "execution_count": 19,
     "metadata": {},
     "output_type": "execute_result"
    }
   ],
   "source": [
    "word_prob(the_data, \"good\",col_in = \"body_sw\")"
   ]
  },
  {
   "cell_type": "code",
   "execution_count": null,
   "id": "27eb2c4f-b72e-4b08-a3d9-bc1429f5ae7b",
   "metadata": {},
   "outputs": [],
   "source": []
  }
 ],
 "metadata": {
  "kernelspec": {
   "display_name": "Python 3 (ipykernel)",
   "language": "python",
   "name": "python3"
  },
  "language_info": {
   "codemirror_mode": {
    "name": "ipython",
    "version": 3
   },
   "file_extension": ".py",
   "mimetype": "text/x-python",
   "name": "python",
   "nbconvert_exporter": "python",
   "pygments_lexer": "ipython3",
   "version": "3.12.4"
  }
 },
 "nbformat": 4,
 "nbformat_minor": 5
}
