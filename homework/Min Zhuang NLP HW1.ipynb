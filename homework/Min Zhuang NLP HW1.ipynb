{
 "cells": [
  {
   "cell_type": "markdown",
   "id": "dfb113f1",
   "metadata": {},
   "source": [
    "# NLP HW1\n",
    "### Michelle Zhuang\n",
    "### mz3067"
   ]
  },
  {
   "cell_type": "code",
   "execution_count": 1,
   "id": "fac2e730",
   "metadata": {},
   "outputs": [
    {
     "name": "stdout",
     "output_type": "stream",
     "text": [
      "100\n",
      "102\n",
      "104\n",
      "106\n",
      "108\n"
     ]
    }
   ],
   "source": [
    "\"\"\"\n",
    "1. Modify the code below to count 'up' in increments of +2\n",
    "\"\"\"\n",
    "for word in range(100, 110, 2):\n",
    "    print(word)"
   ]
  },
  {
   "cell_type": "code",
   "execution_count": 2,
   "id": "1c41089d",
   "metadata": {},
   "outputs": [
    {
     "name": "stdout",
     "output_type": "stream",
     "text": [
      "100\n",
      "98\n",
      "96\n",
      "94\n",
      "92\n"
     ]
    }
   ],
   "source": [
    "\"\"\"\n",
    "2. Change the code below to count down in increments of -2.0\n",
    "\"\"\"\n",
    "for word in range(100, 90, -2):\n",
    "    print(word)"
   ]
  },
  {
   "cell_type": "code",
   "execution_count": 3,
   "id": "52aa82be",
   "metadata": {},
   "outputs": [
    {
     "name": "stdout",
     "output_type": "stream",
     "text": [
      "0: World\n",
      "1: World\n",
      "2: World\n",
      "3: World\n",
      "4: World\n",
      "5: World\n",
      "6: World\n",
      "7: World\n",
      "8: World\n",
      "9: World\n",
      "10: World\n",
      "11: World\n",
      "12: World\n",
      "13: World\n",
      "14: World\n",
      "15: World\n",
      "16: World\n",
      "17: World\n",
      "18: World\n",
      "19: World\n",
      "20: World\n",
      "21: World\n",
      "22: World\n",
      "23: World\n",
      "24: World\n",
      "25: World\n",
      "26: World\n",
      "27: World\n",
      "28: World\n",
      "29: World\n",
      "30: World\n",
      "31: World\n",
      "32: World\n",
      "33: World\n",
      "34: World\n",
      "35: World\n",
      "36: World\n",
      "37: World\n",
      "38: World\n",
      "39: World\n",
      "40: World\n",
      "41: World\n",
      "42: World\n",
      "43: World\n",
      "44: World\n",
      "45: World\n",
      "46: World\n",
      "47: World\n",
      "48: World\n",
      "49: World\n",
      "50: World\n",
      "51: Hello\n",
      "52: Hello\n",
      "53: Hello\n",
      "54: Hello\n",
      "55: Hello\n",
      "56: Hello\n",
      "57: Hello\n",
      "58: Hello\n",
      "59: Hello\n",
      "60: Hello\n",
      "61: Hello\n",
      "62: Hello\n",
      "63: Hello\n",
      "64: Hello\n",
      "65: Hello\n",
      "66: Hello\n",
      "67: Hello\n",
      "68: Hello\n",
      "69: Hello\n",
      "70: Hello\n",
      "71: Hello\n",
      "72: Hello\n",
      "73: Hello\n",
      "74: Hello\n",
      "75: Hello\n",
      "76: Hello\n",
      "77: Hello\n",
      "78: Hello\n",
      "79: Hello\n",
      "80: Hello\n",
      "81: Hello\n",
      "82: Hello\n",
      "83: Hello\n",
      "84: Hello\n",
      "85: Hello\n",
      "86: Hello\n",
      "87: Hello\n",
      "88: Hello\n",
      "89: Hello\n",
      "90: Hello\n",
      "91: Hello\n",
      "92: Hello\n",
      "93: Hello\n",
      "94: Hello\n",
      "95: Hello\n",
      "96: Hello\n",
      "97: Hello\n",
      "98: Hello\n",
      "99: Hello\n",
      "100: Hello\n"
     ]
    }
   ],
   "source": [
    "\"\"\"\n",
    "3. Create a program that counts up from 0 to 100.  The program is to print \"Hello\" \n",
    "when the count is greater than 50 and print \"World\" when the count is less then or equal to 50\n",
    "\"\"\"\n",
    "\n",
    "for word in range(101):\n",
    "    if word > 50:\n",
    "        print(f\"{word}: Hello\")\n",
    "    else:\n",
    "        print(f\"{word}: World\")"
   ]
  },
  {
   "cell_type": "code",
   "execution_count": 4,
   "id": "4c4d4d0c",
   "metadata": {},
   "outputs": [
    {
     "data": {
      "text/plain": [
       "{'T': 1,\n",
       " 'o': 1,\n",
       " 'd': 2,\n",
       " 'a': 3,\n",
       " 'y': 3,\n",
       " ' ': 4,\n",
       " 'i': 1,\n",
       " 's': 2,\n",
       " 'u': 1,\n",
       " 'n': 2}"
      ]
     },
     "execution_count": 4,
     "metadata": {},
     "output_type": "execute_result"
    }
   ],
   "source": [
    "\"\"\"\n",
    "4. Create a function called char_cnt that takes in a string and outputs a dictionary where\n",
    "each key represents a unique character and the value is the number of times that character\n",
    "shows up in the string\n",
    "\n",
    "\"\"\"\n",
    "\n",
    "def char_cnt(string_input):\n",
    "    char_dict = {}\n",
    "    for word in string_input:\n",
    "        if word in char_dict:\n",
    "            char_dict[word] += 1\n",
    "        else:\n",
    "            char_dict[word] = 1\n",
    "    return char_dict\n",
    "\n",
    "string = \"Today is a sunny day\"\n",
    "result = char_cnt(string)\n",
    "result\n",
    "    "
   ]
  },
  {
   "cell_type": "code",
   "execution_count": 5,
   "id": "9f000203",
   "metadata": {},
   "outputs": [
    {
     "data": {
      "text/plain": [
       "[5, 4, 3, 2, 1]"
      ]
     },
     "execution_count": 5,
     "metadata": {},
     "output_type": "execute_result"
    }
   ],
   "source": [
    "\"\"\"\n",
    "5.  create a function called rev_list that takes a list as an input and reverses the elements \n",
    "of a that list, you must use a loop statement or sorts, and you cannot use .reverse() or [::-1] \n",
    "\"\"\"\n",
    "\n",
    "def rev_list(list_input):\n",
    "    list_reversed = []\n",
    "    for i in list_input:\n",
    "        list_reversed = [i] + list_reversed\n",
    "    return list_reversed\n",
    "\n",
    "list_try = [1,2,3,4,5]\n",
    "rev_list(list_try)"
   ]
  },
  {
   "cell_type": "code",
   "execution_count": 6,
   "id": "f0a9343f",
   "metadata": {},
   "outputs": [
    {
     "data": {
      "text/plain": [
       "['student', 'above', 'beyond', 'homework']"
      ]
     },
     "execution_count": 6,
     "metadata": {},
     "output_type": "execute_result"
    }
   ],
   "source": [
    "\"\"\"\n",
    "6. Using list comprehension (HINT: []) populate an array whose individual word \n",
    "character lengths are >= 5 (10 points)\n",
    "\"\"\"\n",
    "the_sentence = 'the student went above and beyond the call of duty on the homework'\n",
    "[i for i in the_sentence.split(\" \") if len(i) >= 5]"
   ]
  },
  {
   "cell_type": "code",
   "execution_count": 7,
   "id": "1598d464",
   "metadata": {},
   "outputs": [
    {
     "data": {
      "text/plain": [
       "'the orange cat jumped over the turtle, but the orange cat landed on another orange cat'"
      ]
     },
     "execution_count": 7,
     "metadata": {},
     "output_type": "execute_result"
    }
   ],
   "source": [
    "\"\"\"\n",
    "7. Fix the errors in the code below and replace the word dog with turtle\n",
    "\"\"\"\n",
    "import re\n",
    "the_sentence = 'the orange cat jumped over the dog, but the orange cat landed on another orange cat'\n",
    "\n",
    "my_ar = re.sub('dog', 'turtle', the_sentence)\n",
    "my_ar"
   ]
  },
  {
   "cell_type": "code",
   "execution_count": 8,
   "id": "5b4330d2",
   "metadata": {},
   "outputs": [
    {
     "data": {
      "text/plain": [
       "['woah!!!',\n",
       " 'the',\n",
       " 'student',\n",
       " ' really',\n",
       " ' impressed',\n",
       " 'me',\n",
       " 'and',\n",
       " 'so',\n",
       " 'did',\n",
       " 'you!!!']"
      ]
     },
     "execution_count": 8,
     "metadata": {},
     "output_type": "execute_result"
    }
   ],
   "source": [
    "\"\"\"\n",
    "8. Create a function called cln_txt that takes a list as an input, the\n",
    "list will contain tokens, your job is to replace any special characters with\n",
    "a no space, except '!', with ''\n",
    "\"\"\"\n",
    "\n",
    "the_ar = ['woah!!!','the','@student',' really^','# impressed','me,','and&','so','did','??you!!!']\n",
    "def cln_txt(a_list):\n",
    "    sc = '`~@#$%^&*()_-+={}[]|\\\\:;\"\\'<>,.?/'\n",
    "    output_list = []\n",
    "    for i in a_list:\n",
    "        #print('='*50)\n",
    "        #print(f'begin rocessing {i}')\n",
    "        tmp = ''\n",
    "        for char in i:\n",
    "            if char in sc:\n",
    "                continue\n",
    "            else:\n",
    "                tmp += char\n",
    "                #print(tmp)\n",
    "        #print(f'processed word for this round is: {tmp}')\n",
    "        #print()\n",
    "        output_list += [tmp]\n",
    "    return output_list\n",
    "\n",
    "cln_txt(the_ar)"
   ]
  },
  {
   "cell_type": "code",
   "execution_count": 9,
   "id": "6172ca70",
   "metadata": {},
   "outputs": [
    {
     "name": "stdout",
     "output_type": "stream",
     "text": [
      "5 : odd\n",
      "10 : even\n",
      "8 : even\n",
      "1 : odd\n",
      "10 : even\n",
      "2 : even\n",
      "2 : even\n",
      "7 : odd\n",
      "8 : even\n",
      "8 : even\n"
     ]
    }
   ],
   "source": [
    "\"\"\"\n",
    "9. Create a program that loops 10 times and for each loop generate a random integer between 1 and 10, \n",
    "and print 'even' if the number is even and 'odd' if the number is odd (HINT: import random)\n",
    "if the number is odd\n",
    "\"\"\"\n",
    "import random\n",
    "# random.randint(1,10)\n",
    "for i in range(10):\n",
    "    tmp = random.randint(1,10)\n",
    "    if tmp % 2 == 0:\n",
    "        print(f\"{tmp} : even\")\n",
    "    else:\n",
    "        print(f\"{tmp} : odd\")"
   ]
  },
  {
   "cell_type": "code",
   "execution_count": 10,
   "id": "0fed53a9",
   "metadata": {},
   "outputs": [
    {
     "data": {
      "text/plain": [
       "('john doe', 8)"
      ]
     },
     "execution_count": 10,
     "metadata": {},
     "output_type": "execute_result"
    }
   ],
   "source": [
    "\"\"\"\n",
    "10. Create a function called the_cat which can accept two input strings, the output\n",
    "of the function will concatenate both string together, with a single space between and print\n",
    "the total length of the resultant string\n",
    "i.e. string_1 = \"john\", string_2 = \"doe\", function to output \"john doe\", 9\n",
    "\n",
    "\"\"\"\n",
    "\n",
    "def the_cat(str1,str2):\n",
    "    assert (type(str1) == str)&(type(str2) == str), 'input not string, plz check input type'\n",
    "    return str1+' '+str2, len(str1+' '+str2)\n",
    "\n",
    "the_cat(\"john\",'doe')"
   ]
  }
 ],
 "metadata": {
  "kernelspec": {
   "display_name": "Python 3 (ipykernel)",
   "language": "python",
   "name": "python3"
  },
  "language_info": {
   "codemirror_mode": {
    "name": "ipython",
    "version": 3
   },
   "file_extension": ".py",
   "mimetype": "text/x-python",
   "name": "python",
   "nbconvert_exporter": "python",
   "pygments_lexer": "ipython3",
   "version": "3.11.5"
  }
 },
 "nbformat": 4,
 "nbformat_minor": 5
}
