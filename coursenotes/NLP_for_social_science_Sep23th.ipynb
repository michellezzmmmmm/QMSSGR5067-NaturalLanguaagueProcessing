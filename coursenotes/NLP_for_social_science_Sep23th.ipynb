{
 "cells": [
  {
   "cell_type": "markdown",
   "id": "29c3b31e",
   "metadata": {},
   "source": [
    "### inclass note"
   ]
  },
  {
   "cell_type": "markdown",
   "id": "b0839afd",
   "metadata": {},
   "source": [
    "manipulation of the pandas dataframe"
   ]
  },
  {
   "cell_type": "code",
   "execution_count": 5,
   "id": "6d5d991d",
   "metadata": {},
   "outputs": [
    {
     "data": {
      "text/html": [
       "<div>\n",
       "<style scoped>\n",
       "    .dataframe tbody tr th:only-of-type {\n",
       "        vertical-align: middle;\n",
       "    }\n",
       "\n",
       "    .dataframe tbody tr th {\n",
       "        vertical-align: top;\n",
       "    }\n",
       "\n",
       "    .dataframe thead th {\n",
       "        text-align: right;\n",
       "    }\n",
       "</style>\n",
       "<table border=\"1\" class=\"dataframe\">\n",
       "  <thead>\n",
       "    <tr style=\"text-align: right;\">\n",
       "      <th></th>\n",
       "      <th>name</th>\n",
       "      <th>length</th>\n",
       "    </tr>\n",
       "  </thead>\n",
       "  <tbody>\n",
       "    <tr>\n",
       "      <th>0</th>\n",
       "      <td>a</td>\n",
       "      <td>1</td>\n",
       "    </tr>\n",
       "    <tr>\n",
       "      <th>1</th>\n",
       "      <td>lololo</td>\n",
       "      <td>6</td>\n",
       "    </tr>\n",
       "    <tr>\n",
       "      <th>2</th>\n",
       "      <td>lashfuk</td>\n",
       "      <td>7</td>\n",
       "    </tr>\n",
       "    <tr>\n",
       "      <th>3</th>\n",
       "      <td>shudf</td>\n",
       "      <td>5</td>\n",
       "    </tr>\n",
       "    <tr>\n",
       "      <th>4</th>\n",
       "      <td>ahsdjkf</td>\n",
       "      <td>7</td>\n",
       "    </tr>\n",
       "    <tr>\n",
       "      <th>5</th>\n",
       "      <td>shdufk</td>\n",
       "      <td>6</td>\n",
       "    </tr>\n",
       "    <tr>\n",
       "      <th>6</th>\n",
       "      <td>hh</td>\n",
       "      <td>2</td>\n",
       "    </tr>\n",
       "  </tbody>\n",
       "</table>\n",
       "</div>"
      ],
      "text/plain": [
       "      name  length\n",
       "0        a       1\n",
       "1   lololo       6\n",
       "2  lashfuk       7\n",
       "3    shudf       5\n",
       "4  ahsdjkf       7\n",
       "5   shdufk       6\n",
       "6       hh       2"
      ]
     },
     "execution_count": 5,
     "metadata": {},
     "output_type": "execute_result"
    }
   ],
   "source": [
    "import pandas as pd\n",
    "my_pd = pd.DataFrame()\n",
    "type(my_pd)\n",
    "len(my_pd)\n",
    "\n",
    "t_l = ['a','lololo','lashfuk','shudf', 'ahsdjkf', 'shdufk', 'hh']\n",
    "for name in t_l:\n",
    "    tmp = pd.DataFrame({\"name\": [name], \"length\": [len(name)]})\n",
    "    my_pd = pd.concat([my_pd, tmp], ignore_index=True)\n",
    "my_pd"
   ]
  },
  {
   "cell_type": "code",
   "execution_count": 9,
   "id": "dedaa90b",
   "metadata": {},
   "outputs": [
    {
     "data": {
      "text/html": [
       "<div>\n",
       "<style scoped>\n",
       "    .dataframe tbody tr th:only-of-type {\n",
       "        vertical-align: middle;\n",
       "    }\n",
       "\n",
       "    .dataframe tbody tr th {\n",
       "        vertical-align: top;\n",
       "    }\n",
       "\n",
       "    .dataframe thead th {\n",
       "        text-align: right;\n",
       "    }\n",
       "</style>\n",
       "<table border=\"1\" class=\"dataframe\">\n",
       "  <thead>\n",
       "    <tr style=\"text-align: right;\">\n",
       "      <th></th>\n",
       "      <th>name</th>\n",
       "      <th>length</th>\n",
       "    </tr>\n",
       "  </thead>\n",
       "  <tbody>\n",
       "    <tr>\n",
       "      <th>0</th>\n",
       "      <td>a</td>\n",
       "      <td>1</td>\n",
       "    </tr>\n",
       "    <tr>\n",
       "      <th>6</th>\n",
       "      <td>hh</td>\n",
       "      <td>2</td>\n",
       "    </tr>\n",
       "  </tbody>\n",
       "</table>\n",
       "</div>"
      ],
      "text/plain": [
       "  name  length\n",
       "0    a       1\n",
       "6   hh       2"
      ]
     },
     "execution_count": 9,
     "metadata": {},
     "output_type": "execute_result"
    }
   ],
   "source": [
    "# slice a pandas dataframe\n",
    "test_slice = my_pd[my_pd[\"length\"] <= 4]\n",
    "test_slice"
   ]
  },
  {
   "cell_type": "code",
   "execution_count": 7,
   "id": "03c94280",
   "metadata": {},
   "outputs": [
    {
     "data": {
      "text/plain": [
       "0    1\n",
       "1    6\n",
       "2    7\n",
       "3    5\n",
       "4    7\n",
       "5    6\n",
       "6    2\n",
       "Name: length, dtype: int64"
      ]
     },
     "execution_count": 7,
     "metadata": {},
     "output_type": "execute_result"
    }
   ],
   "source": [
    "my_pd[\"length\"]"
   ]
  },
  {
   "cell_type": "code",
   "execution_count": 19,
   "id": "dd835b19",
   "metadata": {},
   "outputs": [],
   "source": [
    "#write to a csv file\n",
    "path = \"/Users/shaobin233/Desktop/columbia qmss/nlp\"\n",
    "my_pd.to_csv(path + \"data_fun.csv\", index = False)"
   ]
  },
  {
   "cell_type": "code",
   "execution_count": 21,
   "id": "02caa7c1",
   "metadata": {},
   "outputs": [
    {
     "data": {
      "text/html": [
       "<div>\n",
       "<style scoped>\n",
       "    .dataframe tbody tr th:only-of-type {\n",
       "        vertical-align: middle;\n",
       "    }\n",
       "\n",
       "    .dataframe tbody tr th {\n",
       "        vertical-align: top;\n",
       "    }\n",
       "\n",
       "    .dataframe thead th {\n",
       "        text-align: right;\n",
       "    }\n",
       "</style>\n",
       "<table border=\"1\" class=\"dataframe\">\n",
       "  <thead>\n",
       "    <tr style=\"text-align: right;\">\n",
       "      <th></th>\n",
       "      <th>name</th>\n",
       "      <th>length</th>\n",
       "    </tr>\n",
       "  </thead>\n",
       "  <tbody>\n",
       "    <tr>\n",
       "      <th>0</th>\n",
       "      <td>a</td>\n",
       "      <td>1</td>\n",
       "    </tr>\n",
       "    <tr>\n",
       "      <th>1</th>\n",
       "      <td>lololo</td>\n",
       "      <td>6</td>\n",
       "    </tr>\n",
       "    <tr>\n",
       "      <th>2</th>\n",
       "      <td>lashfuk</td>\n",
       "      <td>7</td>\n",
       "    </tr>\n",
       "    <tr>\n",
       "      <th>3</th>\n",
       "      <td>shudf</td>\n",
       "      <td>5</td>\n",
       "    </tr>\n",
       "    <tr>\n",
       "      <th>4</th>\n",
       "      <td>ahsdjkf</td>\n",
       "      <td>7</td>\n",
       "    </tr>\n",
       "    <tr>\n",
       "      <th>5</th>\n",
       "      <td>shdufk</td>\n",
       "      <td>6</td>\n",
       "    </tr>\n",
       "    <tr>\n",
       "      <th>6</th>\n",
       "      <td>hh</td>\n",
       "      <td>2</td>\n",
       "    </tr>\n",
       "  </tbody>\n",
       "</table>\n",
       "</div>"
      ],
      "text/plain": [
       "      name  length\n",
       "0        a       1\n",
       "1   lololo       6\n",
       "2  lashfuk       7\n",
       "3    shudf       5\n",
       "4  ahsdjkf       7\n",
       "5   shdufk       6\n",
       "6       hh       2"
      ]
     },
     "execution_count": 21,
     "metadata": {},
     "output_type": "execute_result"
    }
   ],
   "source": [
    "new_data = pd.read_csv(\"data_fun.csv\")\n",
    "new_data"
   ]
  },
  {
   "cell_type": "markdown",
   "id": "01359cb1",
   "metadata": {},
   "source": [
    "### boolean statement"
   ]
  },
  {
   "cell_type": "code",
   "execution_count": 24,
   "id": "e6c95fd5",
   "metadata": {},
   "outputs": [
    {
     "name": "stdout",
     "output_type": "stream",
     "text": [
      "hello\n"
     ]
    }
   ],
   "source": [
    "a = 1\n",
    "b = 4\n",
    "c = 56\n",
    "\n",
    "if a == 1:\n",
    "    print(\"hello\")\n",
    "elif b == 3:\n",
    "    print(\"class\")\n",
    "else:\n",
    "    print(\"monday\")"
   ]
  },
  {
   "cell_type": "code",
   "execution_count": 26,
   "id": "8a511ad3",
   "metadata": {},
   "outputs": [],
   "source": [
    "# list comprehension\n",
    "ar = [] #create a list\n",
    "for i in range(0,10):\n",
    "    ar.append(i*2)"
   ]
  },
  {
   "cell_type": "code",
   "execution_count": 29,
   "id": "18eb060e",
   "metadata": {},
   "outputs": [],
   "source": [
    "ar = [word*2 for word in range(0,10)]"
   ]
  },
  {
   "cell_type": "code",
   "execution_count": 30,
   "id": "38ea05dc",
   "metadata": {},
   "outputs": [
    {
     "data": {
      "text/plain": [
       "[0, 2, 4, 6, 8, 10, 12, 14, 16, 18]"
      ]
     },
     "execution_count": 30,
     "metadata": {},
     "output_type": "execute_result"
    }
   ],
   "source": [
    "ar"
   ]
  },
  {
   "cell_type": "markdown",
   "id": "f91399e5",
   "metadata": {},
   "source": [
    "these two statement contains the same function"
   ]
  },
  {
   "cell_type": "code",
   "execution_count": 31,
   "id": "c6f7438c",
   "metadata": {},
   "outputs": [
    {
     "data": {
      "text/plain": [
       "{'ashuidf': 7, 'ahsudifl': 8, 'dufigk': 6, 'sgyrudfl': 8}"
      ]
     },
     "execution_count": 31,
     "metadata": {},
     "output_type": "execute_result"
    }
   ],
   "source": [
    "ar_ex = [\"ashuidf\", \"ahsudifl\", \"dufigk\", \"sgyrudfl\"]\n",
    "# create a dictionary using dictionary comprehension where the key is a word, and the value is length\n",
    "dictionary_ex = {k:len(k) for k in ar_ex}\n",
    "dictionary_ex"
   ]
  },
  {
   "cell_type": "code",
   "execution_count": 33,
   "id": "94fbca7a",
   "metadata": {},
   "outputs": [],
   "source": [
    "dictionary_ex = dict()\n",
    "for word in ar_ex:\n",
    "    dictionary_ex[word] = len(word)"
   ]
  },
  {
   "cell_type": "code",
   "execution_count": 6,
   "id": "a32f3905",
   "metadata": {},
   "outputs": [
    {
     "name": "stdout",
     "output_type": "stream",
     "text": [
      "      name  len\n",
      "0  patrick    7\n",
      "1      bob    3\n",
      "2      sue    3\n",
      "3    jenny    5\n"
     ]
    }
   ],
   "source": [
    "names = [\"patrick\", \"bob\", \"sue\", \"jenny\"]\n",
    "\n",
    "def loop_fun(list_in):\n",
    "    import pandas as pd\n",
    "    my_pd_t = pd.DataFrame()  # Create an empty DataFrame\n",
    "    for name in list_in:  # Loop through the provided list\n",
    "        tmp = pd.DataFrame({\"name\": name, \"len\": len(name)}, index=[0])\n",
    "        my_pd_t = pd.concat([my_pd_t, tmp], ignore_index=True)  # Corrected to 'concat'\n",
    "    return my_pd_t\n",
    "\n",
    "a = loop_fun(names)\n",
    "print(a)\n"
   ]
  },
  {
   "cell_type": "markdown",
   "id": "45abc005-1ef6-46d2-860d-2bc52140cc54",
   "metadata": {},
   "source": [
    "### excercise\n",
    "refactor the example above but if the number of chatacers in a nmae exceed 3, then do not manipulate the value out"
   ]
  },
  {
   "cell_type": "code",
   "execution_count": 9,
   "id": "9e8b6b8d-9e2f-4442-824f-f8aa7637d2de",
   "metadata": {},
   "outputs": [
    {
     "name": "stdout",
     "output_type": "stream",
     "text": [
      "  name  len\n",
      "0  bob    3\n",
      "1  sue    3\n"
     ]
    }
   ],
   "source": [
    "import pandas as pd\n",
    "names = [\"patrick\", \"bob\", \"sue\", \"jenny\"]\n",
    "\n",
    "def loof_fun_re(list_in):\n",
    "    my_pd_t = pd.DataFrame()\n",
    "    for name in list_in:\n",
    "        if len(name) <= 3:\n",
    "            tmp = pd.DataFrame({\"name\": name, \"len\": len(name)}, index=[0])\n",
    "            my_pd_t = pd.concat([my_pd_t, tmp], ignore_index=True)\n",
    "    return my_pd_t\n",
    "\n",
    "a = loof_fun_re(names)\n",
    "print(a)"
   ]
  },
  {
   "cell_type": "markdown",
   "id": "db8b3b85-f916-4508-b09d-103558af1211",
   "metadata": {},
   "source": [
    "### text data manipulation"
   ]
  },
  {
   "cell_type": "code",
   "execution_count": 17,
   "id": "16d43356-6081-4e7f-acf3-10d7b019c1e2",
   "metadata": {},
   "outputs": [],
   "source": [
    "the_path = \"/Users/shaobin233/Desktop/columbia qmss/nlp/data/fishing/\"\n",
    "file_name = \"fish_121827061000.txt\""
   ]
  },
  {
   "cell_type": "code",
   "execution_count": 27,
   "id": "b04a1268-1505-47df-b62b-86a7c5c96e4b",
   "metadata": {},
   "outputs": [],
   "source": [
    "def read_file(full_path_in):\n",
    "    import re\n",
    "    f = open(the_path + file_name, \"r\", encoding = \"UTF-8\")\n",
    "    text = f.read().lower()\n",
    "    text = re.sub(\"[^A-z']+\", \" \", text).strip()\n",
    "    f.close\n",
    "    \n",
    "    return text"
   ]
  },
  {
   "cell_type": "code",
   "execution_count": 29,
   "id": "ce9ea637-117c-4f5b-b0d6-4b14fb5b9f18",
   "metadata": {},
   "outputs": [
    {
     "data": {
      "text/plain": [
       "\"fish casper wyoming visitcasper book a room casper compass sports vacation guide industry meetings bike festivals fish galleries history hunting indoor activities museums music theatre outdoor activities parks rodeo trails calendar of events festivals hotels motels campgrounds rv parks guest ranches lodges eat casper mountain waterways historic casper museums shopping the road to yellowstone trails about industry meetings my trip sports book a room casper compass vacation guide big fish and lots of 'em wyoming's big fish destination share casper is widely considered to be wyoming s top fishing spot by anglers around the world fish the north platte river urban fly fishing ice fishing top local fishing secrets catch of the day grip 'n grin gallery video fish casper commercial fish casper snaps previous slide next slide first slide details current slide first slide details current slide first slide details current slide first slide details current slide first slide details current slide first slide details current slide first slide details current slide first slide details current slide first slide details current slide first slide details current slide first slide details current slide first slide details current slide first slide details current slide first slide details current slide first slide details current slide first slide details current slide first slide details current slide first slide details current slide first slide details current slide hot spots miracle mile grey reef alcova reservoir pathfinder north platte river lakes reservoirs guides outfitters river sports cowboy drifters fish tales guide service grey reef anglers platte river fly shop the reef fly shop ugly bug fly shop wyoming anglers upcoming fish events in casper jan th th annual hawg ice fishing derby jan th th annual hawg ice fishing derby the year round mountain town where the wild at heart roam book a room e newsletter your up to the minute guide on all things casper things to do events stay eat explore about book a room casper compass contact us industry media meetings privacy policy sports vacation guide\""
      ]
     },
     "execution_count": 29,
     "metadata": {},
     "output_type": "execute_result"
    }
   ],
   "source": [
    "text_t = read_file(the_path + file_name)\n",
    "text_t"
   ]
  },
  {
   "cell_type": "code",
   "execution_count": 24,
   "id": "72abd202-fe6c-4671-bf3e-bd3288da2e44",
   "metadata": {},
   "outputs": [],
   "source": [
    "import re\n",
    "text_pre = re.sub(\"[^A-z']+\", \" \", text)"
   ]
  },
  {
   "cell_type": "markdown",
   "id": "c9c8c153-fc05-4fe0-b28b-28fd7c55295c",
   "metadata": {},
   "source": [
    "The code is replacing all characters that are not:\n",
    "\n",
    "*  Uppercase (A-Z)\n",
    "*  Lowercase (a-z)\n",
    "*  Apostrophes (')\n",
    "\n",
    "with a single space (\" \"). Any sequence of such characters (like punctuation marks or special symbols) is collapsed into a single space.\n",
    "\n"
   ]
  },
  {
   "cell_type": "code",
   "execution_count": 26,
   "id": "5b1bfcc3-e990-41bd-ba26-2027421de3d5",
   "metadata": {},
   "outputs": [
    {
     "name": "stdout",
     "output_type": "stream",
     "text": [
      "Hello world It's 2024 Let's code Python \n"
     ]
    }
   ],
   "source": [
    "import re\n",
    "\n",
    "text = \"Hello, world! It's 2024. Let's code #Python.\"\n",
    "text_pre = re.sub(\"[^A-z'0-9]+\", \" \", text)\n",
    "\n",
    "print(text_pre)"
   ]
  },
  {
   "cell_type": "code",
   "execution_count": null,
   "id": "556a4b28-a46d-45d3-b297-97f0c7b9f202",
   "metadata": {},
   "outputs": [],
   "source": [
    "text_pre = re.sub(\"[^A-Za-z']+\", \" \", text).strip()"
   ]
  },
  {
   "cell_type": "markdown",
   "id": "a9b99f66-f91b-4081-909e-cadb0d1a7d70",
   "metadata": {},
   "source": [
    "**[^A-Za-z']+** : This pattern is looking for any sequence of characters that are not:\n",
    "*  Uppercase letters (A-Z)\n",
    "*  Lowercase letters (a-z)\n",
    "*  Apostrophes (')\n",
    "\n",
    "+: This ensures that it matches one or more consecutive characters from the negated group (i.e., anything not a letter or apostrophe).\n",
    "\n",
    "\" \": The matched characters (which are not letters or apostrophes) are replaced by a single space.\n",
    "\n",
    "This means that anything not a letter or apostrophe (like numbers, punctuation, symbols, etc.) is replaced with a space.\n",
    "\n",
    "After the substitution, **.strip()** is used to remove any leading or trailing spaces from the resulting string."
   ]
  },
  {
   "cell_type": "code",
   "execution_count": null,
   "id": "abf33c70-9c0e-4588-9b64-5e4d67939431",
   "metadata": {},
   "outputs": [],
   "source": []
  }
 ],
 "metadata": {
  "kernelspec": {
   "display_name": "Python 3 (ipykernel)",
   "language": "python",
   "name": "python3"
  },
  "language_info": {
   "codemirror_mode": {
    "name": "ipython",
    "version": 3
   },
   "file_extension": ".py",
   "mimetype": "text/x-python",
   "name": "python",
   "nbconvert_exporter": "python",
   "pygments_lexer": "ipython3",
   "version": "3.9.7"
  }
 },
 "nbformat": 4,
 "nbformat_minor": 5
}
