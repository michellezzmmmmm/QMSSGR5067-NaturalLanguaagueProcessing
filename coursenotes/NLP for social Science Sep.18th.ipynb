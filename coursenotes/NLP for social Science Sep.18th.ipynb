{
 "cells": [
  {
   "cell_type": "markdown",
   "id": "6d2dbd57",
   "metadata": {},
   "source": [
    "### Text data related manipulation\n",
    "**jaccardian measure**\n",
    "*  measurement of how simialr two string is (frequenct check) \n",
    "*  intersection (shared number of token)/total number of tokens"
   ]
  },
  {
   "cell_type": "code",
   "execution_count": 2,
   "id": "f45744a4",
   "metadata": {},
   "outputs": [],
   "source": [
    "str_a = 'the weather today is really beautiful'\n",
    "str_b = 'the weather today is nice'"
   ]
  },
  {
   "cell_type": "code",
   "execution_count": 16,
   "id": "8440d9dc",
   "metadata": {},
   "outputs": [
    {
     "name": "stdout",
     "output_type": "stream",
     "text": [
      "jaccadian similarity = 0.5714285714285714\n"
     ]
    }
   ],
   "source": [
    "# measurement of how simialr two string is (frequenct check)\n",
    "# Jaccardian measure\n",
    "# intersection (shared number of token)/total number of tokens\n",
    "\n",
    "def jd_fun(str_a, str_b):\n",
    "    jaccardian_index = None\n",
    "    try:\n",
    "        set_a = set(str_a.split())\n",
    "        set_b = set(str_b.split())\n",
    "        intersection = len(set_a.intersection(set_b))\n",
    "        union = len(set_a.union(set_b))\n",
    "        jaccardian_index = intersection/union\n",
    "    except:\n",
    "        print('there is a problem')\n",
    "        pass\n",
    "    return jaccardian_index \n",
    "\n",
    "similarity = jd_fun(str_a, str_b)\n",
    "print(f'jaccadian similarity = {similarity}')"
   ]
  },
  {
   "cell_type": "markdown",
   "id": "780b20c7",
   "metadata": {},
   "source": [
    "create a function call hello world and run it"
   ]
  },
  {
   "cell_type": "code",
   "execution_count": 12,
   "id": "d3afb28c",
   "metadata": {},
   "outputs": [
    {
     "name": "stdout",
     "output_type": "stream",
     "text": [
      "hello world\n"
     ]
    }
   ],
   "source": [
    "def hello_world():\n",
    "    print('hello world')\n",
    "hello_world()   "
   ]
  },
  {
   "cell_type": "code",
   "execution_count": 11,
   "id": "a36f9b19",
   "metadata": {},
   "outputs": [
    {
     "name": "stdout",
     "output_type": "stream",
     "text": [
      "the answer is 12\n"
     ]
    }
   ],
   "source": [
    "def add_fun(var_a, var_b):\n",
    "    tmp = var_a + var_b\n",
    "    return tmp\n",
    "the_ans = add_fun(4,8)\n",
    "print(f'the answer is {the_ans}')"
   ]
  },
  {
   "cell_type": "code",
   "execution_count": null,
   "id": "0f1325b8",
   "metadata": {},
   "outputs": [],
   "source": [
    "# create a functio that takes 2 corpuses and outputs the jaccardian measure\n",
    "# 同上"
   ]
  },
  {
   "cell_type": "markdown",
   "id": "99140c71",
   "metadata": {},
   "source": [
    "## Data structure: dictionary\n",
    "* key,value pair\n",
    "    * key is unique\n",
    "\n",
    "### structure to input a dictionary"
   ]
  },
  {
   "cell_type": "code",
   "execution_count": 24,
   "id": "57f1354b",
   "metadata": {},
   "outputs": [
    {
     "data": {
      "text/plain": [
       "{'key_a': 'columbia', 'key_b': [1, 4, 6], 'key_c': {'key_blah': 3.14}}"
      ]
     },
     "execution_count": 24,
     "metadata": {},
     "output_type": "execute_result"
    }
   ],
   "source": [
    "the_dictionary = dict()\n",
    "# print(the_dictionary)\n",
    "the_dictionary['key_a'] = 'columbia'\n",
    "the_dictionary['key_b'] = [1,4,6]\n",
    "the_dictionary['key_c'] = {'key_blah' : 3.14}\n",
    "the_dictionary"
   ]
  },
  {
   "cell_type": "code",
   "execution_count": 26,
   "id": "bd29fb2f",
   "metadata": {},
   "outputs": [
    {
     "data": {
      "text/plain": [
       "dict_keys(['key_a', 'key_b', 'key_c'])"
      ]
     },
     "execution_count": 26,
     "metadata": {},
     "output_type": "execute_result"
    }
   ],
   "source": [
    "the_keys = the_dictionary.keys()\n",
    "the_keys\n",
    "# or print(list(the_keys)), this will only return the keys as list"
   ]
  },
  {
   "cell_type": "code",
   "execution_count": 27,
   "id": "2a08d325",
   "metadata": {},
   "outputs": [
    {
     "data": {
      "text/plain": [
       "{1, 4, 6, 7, 8, 9}"
      ]
     },
     "execution_count": 27,
     "metadata": {},
     "output_type": "execute_result"
    }
   ],
   "source": [
    "# one can convert between data strucutres\n",
    "list_a = set([1,4,6,6,7,8,9])\n",
    "list_a\n"
   ]
  },
  {
   "cell_type": "code",
   "execution_count": 33,
   "id": "82122a88",
   "metadata": {},
   "outputs": [
    {
     "name": "stdout",
     "output_type": "stream",
     "text": [
      "['a', 'A', 'a', 'f', 'x', 'e'] ['a', 'A', 'a', 'f', 'x', 'e']\n",
      "['a', 'A', 'a', 'f', 'x']\n"
     ]
    }
   ],
   "source": [
    "# gotcha's with lists\n",
    "\n",
    "list_a = ['a','A','a','f','x']\n",
    "list_a_copy = list_a\n",
    "list_a_true_copy = list_a.copy()\n",
    "list_a.append('e')\n",
    "print(list_a, list_a_copy)\n",
    "# list_a_copy will also copy the list if you only use equal mark\n",
    "# but, if we use copy() function, it will copy the original list\n",
    "print(list_a_true_copy)"
   ]
  },
  {
   "cell_type": "code",
   "execution_count": 40,
   "id": "9287fef9",
   "metadata": {},
   "outputs": [
    {
     "data": {
      "text/plain": [
       "['columbia', ['monday', 'television'], 'monday', 'television']"
      ]
     },
     "execution_count": 40,
     "metadata": {},
     "output_type": "execute_result"
    }
   ],
   "source": [
    "list_e = ['columbia']\n",
    "list_f = ['monday', 'television']\n",
    "list_e.append(list_f)\n",
    "# list_e\n",
    "# this does not work\n",
    "\n",
    "list_e.extend(list_f)\n",
    "# using extend function in this scenario\n",
    "list_e"
   ]
  },
  {
   "cell_type": "markdown",
   "id": "59767995",
   "metadata": {},
   "source": [
    "## looping statements"
   ]
  },
  {
   "cell_type": "code",
   "execution_count": 42,
   "id": "aa783359",
   "metadata": {},
   "outputs": [
    {
     "name": "stdout",
     "output_type": "stream",
     "text": [
      "1\n",
      "2\n",
      "3\n",
      "4\n",
      "5\n"
     ]
    }
   ],
   "source": [
    "t = [1,2,3,4,5]\n",
    "for i in t:\n",
    "    print(i)    "
   ]
  },
  {
   "cell_type": "code",
   "execution_count": 46,
   "id": "60da0f7e",
   "metadata": {},
   "outputs": [
    {
     "name": "stdout",
     "output_type": "stream",
     "text": [
      "0\n",
      "1\n",
      "2\n",
      "3\n",
      "4\n",
      "5\n",
      "6\n",
      "7\n",
      "8\n",
      "9\n"
     ]
    }
   ],
   "source": [
    "cnt = 0\n",
    "while cnt < 10:\n",
    "    print(cnt)\n",
    "    cnt += 1"
   ]
  },
  {
   "cell_type": "markdown",
   "id": "dd61fd70",
   "metadata": {},
   "source": [
    "## class work\n",
    "create function that ouputs a dictionary where each key is a unique token (word), and the value is the number ot times that a unique key shows up in the string \\\n",
    "input : string \\\n",
    "output: dictionary \\\n"
   ]
  },
  {
   "cell_type": "code",
   "execution_count": 56,
   "id": "7a35ee86",
   "metadata": {},
   "outputs": [
    {
     "name": "stdout",
     "output_type": "stream",
     "text": [
      "the cat chased the dog\n",
      "the output dictionary is {'chased': 1, 'cat': 1, 'the': 2, 'dog': 1}\n"
     ]
    }
   ],
   "source": [
    "original_string = 'the cat chased the dog'\n",
    "def string_to_dict(original_string):\n",
    "    words = original_string.split()\n",
    "    \n",
    "    # create a empty dictionary?\n",
    "    words_dict = dict()\n",
    "    \n",
    "    for word in set(words):\n",
    "        words_dict[word] = words.count(word)\n",
    " '''\n",
    " # input a loop inside\n",
    "    for word in words:\n",
    "       if word in words_dict:\n",
    "           words_dict[word] += 1\n",
    "       else:\n",
    "           words_dict[word] = 1\n",
    "           \n",
    "   my answer\n",
    " '''  \n",
    "            \n",
    "    return words_dict\n",
    "print(original_string)\n",
    "output_dict = string_to_dict(original_string)\n",
    "print(f'the output dictionary is {output_dict}')"
   ]
  },
  {
   "cell_type": "markdown",
   "id": "7e0df564",
   "metadata": {},
   "source": [
    "## collection library\n",
    "**the libarary runs way more faster then defining function with loops**"
   ]
  },
  {
   "cell_type": "code",
   "execution_count": 60,
   "id": "4ec5ce5d",
   "metadata": {},
   "outputs": [
    {
     "data": {
      "text/plain": [
       "{'the': 2, 'cat': 1, 'chased': 1, 'dog': 1}"
      ]
     },
     "execution_count": 60,
     "metadata": {},
     "output_type": "execute_result"
    }
   ],
   "source": [
    "original_string = 'the cat chased the dog'\n",
    "\n",
    "def word_frequency(string):\n",
    "\n",
    "    import collections\n",
    "    word_freq = dict(collections.Counter(string.split()))\n",
    "    return word_freq\n",
    "freq = word_frequency(original_string)\n",
    "freq"
   ]
  },
  {
   "cell_type": "markdown",
   "id": "49195cd8",
   "metadata": {},
   "source": [
    "## pandas dataframe"
   ]
  },
  {
   "cell_type": "code",
   "execution_count": 70,
   "id": "ffd283c4",
   "metadata": {},
   "outputs": [
    {
     "data": {
      "text/html": [
       "<div>\n",
       "<style scoped>\n",
       "    .dataframe tbody tr th:only-of-type {\n",
       "        vertical-align: middle;\n",
       "    }\n",
       "\n",
       "    .dataframe tbody tr th {\n",
       "        vertical-align: top;\n",
       "    }\n",
       "\n",
       "    .dataframe thead th {\n",
       "        text-align: right;\n",
       "    }\n",
       "</style>\n",
       "<table border=\"1\" class=\"dataframe\">\n",
       "  <thead>\n",
       "    <tr style=\"text-align: right;\">\n",
       "      <th></th>\n",
       "      <th>name</th>\n",
       "      <th>length</th>\n",
       "    </tr>\n",
       "  </thead>\n",
       "  <tbody>\n",
       "    <tr>\n",
       "      <th>0</th>\n",
       "      <td>a</td>\n",
       "      <td>1</td>\n",
       "    </tr>\n",
       "    <tr>\n",
       "      <th>1</th>\n",
       "      <td>lololo</td>\n",
       "      <td>6</td>\n",
       "    </tr>\n",
       "    <tr>\n",
       "      <th>2</th>\n",
       "      <td>lashfuk</td>\n",
       "      <td>7</td>\n",
       "    </tr>\n",
       "    <tr>\n",
       "      <th>3</th>\n",
       "      <td>shudf</td>\n",
       "      <td>5</td>\n",
       "    </tr>\n",
       "  </tbody>\n",
       "</table>\n",
       "</div>"
      ],
      "text/plain": [
       "      name  length\n",
       "0        a       1\n",
       "1   lololo       6\n",
       "2  lashfuk       7\n",
       "3    shudf       5"
      ]
     },
     "execution_count": 70,
     "metadata": {},
     "output_type": "execute_result"
    }
   ],
   "source": [
    "import pandas as pd\n",
    "my_pd = pd.DataFrame()\n",
    "type(my_pd)\n",
    "len(my_pd)\n",
    "\n",
    "t_l = ['a','lololo','lashfuk','shudf']\n",
    "for name in t_l:\n",
    "    tmp = pd.DataFrame({\"name\": [name], \"length\": [len(name)]})\n",
    "    my_pd = pd.concat([my_pd, tmp], ignore_index=True)\n",
    "my_pd.head()   "
   ]
  },
  {
   "cell_type": "code",
   "execution_count": 76,
   "id": "1f007459",
   "metadata": {},
   "outputs": [],
   "source": [
    "stats = my_pd.describe()\n",
    "stats\n",
    "\n",
    "my_pd.columns = ['name', 'char_length']"
   ]
  },
  {
   "cell_type": "code",
   "execution_count": null,
   "id": "107dd8eb",
   "metadata": {},
   "outputs": [],
   "source": []
  }
 ],
 "metadata": {
  "kernelspec": {
   "display_name": "Python 3 (ipykernel)",
   "language": "python",
   "name": "python3"
  },
  "language_info": {
   "codemirror_mode": {
    "name": "ipython",
    "version": 3
   },
   "file_extension": ".py",
   "mimetype": "text/x-python",
   "name": "python",
   "nbconvert_exporter": "python",
   "pygments_lexer": "ipython3",
   "version": "3.9.7"
  }
 },
 "nbformat": 4,
 "nbformat_minor": 5
}
